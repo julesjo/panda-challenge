{
 "cells": [
  {
   "cell_type": "markdown",
   "metadata": {},
   "source": [
    "### Note\n",
    "* Instructions have been included for each segment. You do not have to follow them exactly, but they are included to help you think through the steps."
   ]
  },
  {
   "cell_type": "code",
   "execution_count": null,
   "metadata": {},
   "outputs": [],
   "source": [
    "# Dependencies and Setup\n",
    "import pandas as pd\n",
    "import numpy as np"
   ]
  },
  {
   "cell_type": "code",
   "execution_count": null,
   "metadata": {},
   "outputs": [],
   "source": [
    "# File to Load (Remember to Change These)\n",
    "#file_to_load = \"Resources/purchase_data.csv\"\n",
    "\n",
    "# Read Purchasing File and store into Pandas data frame\n",
    "#purchase_data = pd.read_csv(file_to_load)\n",
    "\n",
    "purchase_data = pd.read_csv(\"Resources/purchase_data.csv\")\n",
    "purchase_data\n"
   ]
  },
  {
   "cell_type": "code",
   "execution_count": null,
   "metadata": {},
   "outputs": [],
   "source": [
    "purchase_data[\"Age\"]=purchase_data[\"Age\"].astype(str).astype(int)"
   ]
  },
  {
   "cell_type": "markdown",
   "metadata": {},
   "source": [
    "## Player Count"
   ]
  },
  {
   "cell_type": "markdown",
   "metadata": {},
   "source": [
    "* Display the total number of players\n"
   ]
  },
  {
   "cell_type": "code",
   "execution_count": null,
   "metadata": {},
   "outputs": [],
   "source": [
    "total_player = len(purchase_data[\"SN\"].unique())\n",
    "total_player_df=pd.DataFrame({\"Total Players\": [total_player] })\n",
    "total_player_df"
   ]
  },
  {
   "cell_type": "markdown",
   "metadata": {},
   "source": [
    "## Purchasing Analysis (Total)"
   ]
  },
  {
   "cell_type": "markdown",
   "metadata": {},
   "source": [
    "* Run basic calculations to obtain number of unique items, average price, etc.\n",
    "\n",
    "\n",
    "* Create a summary data frame to hold the results\n",
    "\n",
    "\n",
    "* Optional: give the displayed data cleaner formatting\n",
    "\n",
    "\n",
    "* Display the summary data frame\n"
   ]
  },
  {
   "cell_type": "code",
   "execution_count": null,
   "metadata": {
    "scrolled": true
   },
   "outputs": [],
   "source": [
    "# Number of Unique Items\n",
    "no_unique_items = len(purchase_data[\"Item ID\"].unique())\n",
    "no_unique_items\n"
   ]
  },
  {
   "cell_type": "code",
   "execution_count": null,
   "metadata": {},
   "outputs": [],
   "source": [
    "# Average Purchase Price\n",
    "avg_price = '{:,.2f}'.format(purchase_data[\"Price\"].mean())\n",
    "avg_price"
   ]
  },
  {
   "cell_type": "code",
   "execution_count": null,
   "metadata": {},
   "outputs": [],
   "source": [
    "# Total Number of Purchases\n",
    "total_no_purchase = len(purchase_data[\"Purchase ID\"].unique())\n",
    "total_no_purchase\n"
   ]
  },
  {
   "cell_type": "code",
   "execution_count": null,
   "metadata": {},
   "outputs": [],
   "source": [
    "# Total Revenue\n",
    "total_revenue = '${:,.2f}'.format(purchase_data[\"Price\"].sum())\n",
    "total_revenue\n",
    "\n",
    "#total_price = '${:,.2f}'.format(purchase_data[\"Price\"].sum())"
   ]
  },
  {
   "cell_type": "code",
   "execution_count": null,
   "metadata": {},
   "outputs": [],
   "source": [
    "frame_df=pd.DataFrame({\"Number of Unique Items\": [no_unique_items],\"Average Purchase Price\":[avg_price],\"Total Number of Purchases\":[total_no_purchase],\"Total Revenue\":[total_revenue]})\n",
    "frame_df"
   ]
  },
  {
   "cell_type": "markdown",
   "metadata": {},
   "source": [
    "## Gender Demographics"
   ]
  },
  {
   "cell_type": "markdown",
   "metadata": {},
   "source": [
    "* Percentage and Count of Male Players\n",
    "\n",
    "\n",
    "* Percentage and Count of Female Players\n",
    "\n",
    "\n",
    "* Percentage and Count of Other / Non-Disclosed\n",
    "\n",
    "\n"
   ]
  },
  {
   "cell_type": "code",
   "execution_count": null,
   "metadata": {},
   "outputs": [],
   "source": [
    "gender_count = purchase_data.groupby(\"Gender\")[\"SN\"].nunique()\n",
    "gender_count"
   ]
  },
  {
   "cell_type": "code",
   "execution_count": null,
   "metadata": {},
   "outputs": [],
   "source": [
    "gender_percentage = ((gender_count/total_player)*100)\n",
    "gender_percentage"
   ]
  },
  {
   "cell_type": "code",
   "execution_count": null,
   "metadata": {},
   "outputs": [],
   "source": [
    "gender_table = pd.DataFrame({\"Total Count\": gender_count, \n",
    "                           \"Percentage of Players\": gender_percentage})\n",
    "format_table = {\"Total Count\": '{:}', \n",
    "                           \"Percentage of Players\": '{:,.2f}%'}\n",
    "gender_table=gender_table.style.format(format_table)\n",
    "gender_table\n"
   ]
  },
  {
   "cell_type": "markdown",
   "metadata": {},
   "source": [
    "\n",
    "## Purchasing Analysis (Gender)"
   ]
  },
  {
   "cell_type": "markdown",
   "metadata": {},
   "source": [
    "* Run basic calculations to obtain purchase count, avg. purchase price, avg. purchase total per person etc. by gender\n",
    "\n",
    "\n",
    "\n",
    "\n",
    "* Create a summary data frame to hold the results\n",
    "\n",
    "\n",
    "* Optional: give the displayed data cleaner formatting\n",
    "\n",
    "\n",
    "* Display the summary data frame"
   ]
  },
  {
   "cell_type": "code",
   "execution_count": null,
   "metadata": {},
   "outputs": [],
   "source": [
    "purchase_count = purchase_data.groupby(\"Gender\")[\"Purchase ID\"].nunique()\n",
    "purchase_count"
   ]
  },
  {
   "cell_type": "code",
   "execution_count": null,
   "metadata": {},
   "outputs": [],
   "source": [
    "avg_purchase = purchase_data.groupby(\"Gender\")[\"Price\"].mean()\n",
    "avg_purchase"
   ]
  },
  {
   "cell_type": "code",
   "execution_count": null,
   "metadata": {},
   "outputs": [],
   "source": [
    "total_purchase = purchase_data.groupby(\"Gender\")[\"Price\"].sum()\n",
    "total_purchase"
   ]
  },
  {
   "cell_type": "code",
   "execution_count": null,
   "metadata": {},
   "outputs": [],
   "source": [
    "avg_price=purchase_data.groupby(\"Gender\")[\"Price\"].mean()"
   ]
  },
  {
   "cell_type": "code",
   "execution_count": null,
   "metadata": {},
   "outputs": [],
   "source": [
    "avg_total_purchase_person = total_purchase/(purchase_data.groupby(\"Gender\")[\"SN\"].nunique())\n",
    "avg_total_purchase_person"
   ]
  },
  {
   "cell_type": "code",
   "execution_count": null,
   "metadata": {},
   "outputs": [],
   "source": [
    "purchase_table = pd.DataFrame({\"Purchase Count\": purchase_count, \n",
    "                           \"Average Purchase Price\": avg_price, \"Total Purchase Value\": total_purchase, \"Avg Total Purchase per Person\": avg_total_purchase_person})\n",
    "format_table = {\"Purchase Count\": '{:}', \n",
    "                           \"Average Purchase Price\": '${:,.2f}', \"Total Purchase Value\": '${:,.2f}', \"Avg Total Purchase per Person\": '${:,.2f}'}\n",
    "purchase_table=purchase_table.style.format(format_table)\n",
    "purchase_table"
   ]
  },
  {
   "cell_type": "markdown",
   "metadata": {},
   "source": [
    "## Age Demographics"
   ]
  },
  {
   "cell_type": "markdown",
   "metadata": {},
   "source": [
    "* Establish bins for ages\n",
    "\n",
    "\n",
    "* Categorize the existing players using the age bins. Hint: use pd.cut()\n",
    "\n",
    "\n",
    "* Calculate the numbers and percentages by age group\n",
    "\n",
    "\n",
    "* Create a summary data frame to hold the results\n",
    "\n",
    "\n",
    "* Optional: round the percentage column to two decimal points\n",
    "\n",
    "\n",
    "* Display Age Demographics Table\n"
   ]
  },
  {
   "cell_type": "code",
   "execution_count": null,
   "metadata": {},
   "outputs": [],
   "source": [
    "bins = [0, 9, 14, 19, 24, 29, 34, 39, 100]\n",
    "\n",
    "age_groups = [\"<10\", \"10-14\", \"15-19\", \"20-24\", \"25-29\", \"30-34\",\"35-39\",\"40+\"]\n",
    "age_groups"
   ]
  },
  {
   "cell_type": "code",
   "execution_count": null,
   "metadata": {},
   "outputs": [],
   "source": [
    "purchase_data[\"Age Group\"]= pd.cut(purchase_data[\"Age\"], bins,right=False, labels = age_groups,include_lowest=True)\n",
    "agegrp_count = purchase_data.drop_duplicates(subset=\"SN\",keep=\"first\")\n",
    "agerange_count = purchase_data[\"Age Group\"].value_counts()\n",
    "\n",
    "agerange_count"
   ]
  },
  {
   "cell_type": "code",
   "execution_count": null,
   "metadata": {},
   "outputs": [],
   "source": [
    "agerange_percentage = (agerange_count/sum(agerange_count)*100)\n",
    "agerange_percentage"
   ]
  },
  {
   "cell_type": "code",
   "execution_count": null,
   "metadata": {},
   "outputs": [],
   "source": [
    "gender_table = pd.DataFrame({\"Total Count\":agerange_count,\"Percentage of Players\": agerange_percentage})\n",
    "format_table = {\"Total Count\": '{:}', \"Percentage of Players\": '{:,.2f}%'}\n",
    "gender_table = gender_table.style.format(format_table)\n",
    "gender_table\n",
    "\n"
   ]
  },
  {
   "cell_type": "markdown",
   "metadata": {},
   "source": [
    "## Purchasing Analysis (Age)"
   ]
  },
  {
   "cell_type": "markdown",
   "metadata": {},
   "source": [
    "* Bin the purchase_data data frame by age\n",
    "\n",
    "\n",
    "* Run basic calculations to obtain purchase count, avg. purchase price, avg. purchase total per person etc. in the table below\n",
    "\n",
    "\n",
    "* Create a summary data frame to hold the results\n",
    "\n",
    "\n",
    "* Optional: give the displayed data cleaner formatting\n",
    "\n",
    "\n",
    "* Display the summary data frame"
   ]
  },
  {
   "cell_type": "code",
   "execution_count": null,
   "metadata": {},
   "outputs": [],
   "source": [
    "agegrp_p_count = purchase_data.drop_duplicates(subset=\"Purchase ID\",keep=\"first\")\n",
    "agerange_p_count=purchase_data[\"Age Group\"].value_counts()\n",
    "agerange_purchase_counts=agegrp_p_count[\"Age Group\"].value_counts()\n",
    "age_group=purchase_data.groupby(\"Age Group\")\n",
    "agerange_total_purchase=age_group[\"Price\"].sum()\n",
    "agerange_total_purchase"
   ]
  },
  {
   "cell_type": "code",
   "execution_count": null,
   "metadata": {},
   "outputs": [],
   "source": [
    "agerange_avg_purchase=round((agerange_total_purchase/agerange_p_count),2)\n",
    "agerange_avg_person=round((agerange_total_purchase/agerange_avg_purchase),2)\n",
    "agerange_avg_person\n"
   ]
  },
  {
   "cell_type": "code",
   "execution_count": null,
   "metadata": {},
   "outputs": [],
   "source": [
    "agerange_purchase_table = pd.DataFrame({\"Purchase Count\":agerange_p_count,\n",
    "                                        \"Average Purchase Price\": agerange_avg_purchase,\n",
    "                                        \"Total Purchase Value\": agerange_total_purchase,\n",
    "                                        \"Avg Total Purchase per Person\": agerange_avg_person}).sort_index(axis=0)\n",
    "\n",
    "agerange_purchase_table"
   ]
  },
  {
   "cell_type": "markdown",
   "metadata": {},
   "source": [
    "## Top Spenders"
   ]
  },
  {
   "cell_type": "markdown",
   "metadata": {},
   "source": [
    "* Run basic calculations to obtain the results in the table below\n",
    "\n",
    "\n",
    "* Create a summary data frame to hold the results\n",
    "\n",
    "\n",
    "* Sort the total purchase value column in descending order\n",
    "\n",
    "\n",
    "* Optional: give the displayed data cleaner formatting\n",
    "\n",
    "\n",
    "* Display a preview of the summary data frame\n",
    "\n"
   ]
  },
  {
   "cell_type": "code",
   "execution_count": null,
   "metadata": {},
   "outputs": [],
   "source": [
    "spender_count = purchase_data[\"SN\"].value_counts()\n",
    "spender_count"
   ]
  },
  {
   "cell_type": "code",
   "execution_count": null,
   "metadata": {},
   "outputs": [],
   "source": [
    "top_spender_avg_purchase = purchase_data.groupby(\"SN\")[\"Price\"].mean()\n",
    "top_spender_avg_purchase"
   ]
  },
  {
   "cell_type": "code",
   "execution_count": null,
   "metadata": {},
   "outputs": [],
   "source": [
    "top_spender_total_purchase = purchase_data.groupby(\"SN\")[\"Price\"].sum()\n",
    "top_spender_total_purchase"
   ]
  },
  {
   "cell_type": "code",
   "execution_count": null,
   "metadata": {},
   "outputs": [],
   "source": [
    "top_spender_table = pd.DataFrame({\"Purchase Count\": spender_count, \n",
    "                                  \"Average Purchase Price\": top_spender_avg_purchase, \n",
    "                                  \"Total Purchase Value\": top_spender_total_purchase}).sort_values(['Total Purchase Value'],ascending=False)\n",
    "format_table = {\"Purchase Count\": '{:}', \n",
    "                \"Average Purchase Price\": '${:,.2f}', \n",
    "                \"Total Purchase Value\": '${:,.2f}'}\n",
    "top_spender_table = top_spender_table.style.format(format_table)\n",
    "top_spender_table"
   ]
  },
  {
   "cell_type": "markdown",
   "metadata": {},
   "source": [
    "## Most Popular Items"
   ]
  },
  {
   "cell_type": "markdown",
   "metadata": {},
   "source": [
    "* Retrieve the Item ID, Item Name, and Item Price columns\n",
    "\n",
    "\n",
    "* Group by Item ID and Item Name. Perform calculations to obtain purchase count, item price, and total purchase value\n",
    "\n",
    "\n",
    "* Create a summary data frame to hold the results\n",
    "\n",
    "\n",
    "* Sort the purchase count column in descending order\n",
    "\n",
    "\n",
    "* Optional: give the displayed data cleaner formatting\n",
    "\n",
    "\n",
    "* Display a preview of the summary data frame\n",
    "\n"
   ]
  },
  {
   "cell_type": "code",
   "execution_count": null,
   "metadata": {},
   "outputs": [],
   "source": [
    "popular_item_count = purchase_data[\"Item Name\"].value_counts()\n",
    "popular_item_count"
   ]
  },
  {
   "cell_type": "code",
   "execution_count": null,
   "metadata": {},
   "outputs": [],
   "source": [
    "popular_item=purchase_data\n",
    "popular_item=popular_item.groupby([\"Item ID\",\"Item Name\"])\n",
    "popular_item_count = popular_item[\"Purchase ID\"].count()\n",
    "popular_item_count\n",
    "item_price=popular_item[\"Price\"].first()\n",
    "item_price"
   ]
  },
  {
   "cell_type": "code",
   "execution_count": null,
   "metadata": {},
   "outputs": [],
   "source": [
    "total_purchase_item = popular_item[\"Price\"].sum()\n",
    "total_purchase_item"
   ]
  },
  {
   "cell_type": "code",
   "execution_count": null,
   "metadata": {},
   "outputs": [],
   "source": [
    "popular_item_table = pd.DataFrame({\"Purchase Count\": popular_item_count,\n",
    "                                  \"Item Price\": item_price,\n",
    "                                  \"Total Purchase Value\": total_purchase_item}).sort_values(['Purchase Count'], ascending=[0])\n",
    "popular_item_table"
   ]
  },
  {
   "cell_type": "markdown",
   "metadata": {},
   "source": [
    "## Most Profitable Items"
   ]
  },
  {
   "cell_type": "markdown",
   "metadata": {},
   "source": [
    "* Sort the above table by total purchase value in descending order\n",
    "\n",
    "\n",
    "* Optional: give the displayed data cleaner formatting\n",
    "\n",
    "\n",
    "* Display a preview of the data frame\n",
    "\n"
   ]
  },
  {
   "cell_type": "code",
   "execution_count": null,
   "metadata": {
    "scrolled": true
   },
   "outputs": [],
   "source": [
    "most_profit_table = pd.DataFrame({\"Purchase Count\": popular_item_count,\n",
    "                                  \"Item Price\": item_price,\n",
    "                                  \"Total Purchase Value\": total_purchase_item}).sort_values(['Total Purchase Value'], ascending=[0])\n",
    "most_profit_table.head()"
   ]
  },
  {
   "cell_type": "code",
   "execution_count": null,
   "metadata": {},
   "outputs": [],
   "source": []
  }
 ],
 "metadata": {
  "anaconda-cloud": {},
  "kernel_info": {
   "name": "python3"
  },
  "kernelspec": {
   "display_name": "Python 3",
   "language": "python",
   "name": "python3"
  },
  "language_info": {
   "codemirror_mode": {
    "name": "ipython",
    "version": 3
   },
   "file_extension": ".py",
   "mimetype": "text/x-python",
   "name": "python",
   "nbconvert_exporter": "python",
   "pygments_lexer": "ipython3",
   "version": "3.7.5"
  },
  "latex_envs": {
   "LaTeX_envs_menu_present": true,
   "autoclose": false,
   "autocomplete": true,
   "bibliofile": "biblio.bib",
   "cite_by": "apalike",
   "current_citInitial": 1,
   "eqLabelWithNumbers": true,
   "eqNumInitial": 1,
   "hotkeys": {
    "equation": "Ctrl-E",
    "itemize": "Ctrl-I"
   },
   "labels_anchors": false,
   "latex_user_defs": false,
   "report_style_numbering": false,
   "user_envs_cfg": false
  },
  "nteract": {
   "version": "0.2.0"
  }
 },
 "nbformat": 4,
 "nbformat_minor": 2
}
